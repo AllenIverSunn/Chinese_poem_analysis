{
 "cells": [
  {
   "cell_type": "code",
   "execution_count": 107,
   "metadata": {
    "collapsed": true
   },
   "outputs": [],
   "source": [
    "import numpy as np\n",
    "import matplotlib.pyplot as plt\n",
    "import torch\n",
    "from torch.autograd import Variable\n",
    "import torch.nn as nn\n",
    "\n",
    "\n",
    "with open('./如梦令.txt', 'r', encoding='utf-8') as f:\n",
    "    data = f.read()\n",
    "\n",
    "words = list(set(data))\n",
    "word2ind = {word: i for i, word in enumerate(words)}\n",
    "ind2word = {i: word for i, word in enumerate(words)}\n",
    "\n",
    "\n",
    "class RNN(nn.Module):\n",
    "    def __init__(self, input_size, hidden_size, output_size):\n",
    "        super(RNN, self).__init__()\n",
    "        self.input_size = input_size\n",
    "        self.hidden_size = hidden_size\n",
    "        #===========由上一个的hidden传给下一个time step的hidden\n",
    "        self.h2h = nn.Linear(hidden_size, hidden_size)\n",
    "        #===正常传播=====================================\n",
    "        self.in2h = nn.Linear(input_size, hidden_size)\n",
    "        self.h2o = nn.Linear(hidden_size, output_size)\n",
    "        #==============================================\n",
    "        self.drop = nn.Dropout(0.1)\n",
    "        self.softmax = nn.LogSoftmax()\n",
    "\n",
    "    def forward(self, inputs, hidden):\n",
    "        #==================正常传播=======================================\n",
    "#         input_combined = torch.cat((inputs.float(), hidden.float()), 0)\n",
    "        hidden = self.in2h(inputs)\n",
    "        output = self.h2o(hidden)\n",
    "        output = self.drop(output)\n",
    "        output = self.softmax(output)\n",
    "        #================================================================\n",
    "        #===============将hidden传给下一个time step========================\n",
    "        hidden_next = self.h2h(hidden)\n",
    "        #================================================================\n",
    "        return output, hidden_next\n",
    "\n",
    "    def init_hidden(self):\n",
    "        return Variable(torch.from_numpy(np.zeros((self.input_size, self.hidden_size))).type(torch.FloatTensor)).cuda()\n",
    "\n",
    "def form_onehot(sent):\n",
    "    one_hot = np.zeros((len(data), len(words)), dtype=np.int64)\n",
    "    for i, word in enumerate(sent):\n",
    "        one_hot[i, word2ind[word]] = 1\n",
    "    return torch.LongTensor(one_hot)\n",
    "\n",
    "#should pass a softmax result vector in\n",
    "def random_choice(vec):\n",
    "    return np.random.choice(list(range(len(words))), p=vec)\n",
    "\n",
    "def train(rnn, learning_rate, criterion, optimizer, input_tensor, target_tensor, max_iter):\n",
    "    all_loss = []\n",
    "    hidden = rnn.init_hidden()\n",
    "    optimizer.zero_grad()\n",
    "#     for i in range(input_tensor.size(0)-1):\n",
    "    for i in range(max_iter):\n",
    "        output, hidden = rnn(input_tensor, hidden)\n",
    "        loss = criterion(output, target_tensor)\n",
    "        loss.backward(retain_variables=True)\n",
    "        optimizer.step()\n",
    "        if i % 5 == 0:\n",
    "            all_loss.append(loss)\n",
    "            print('epoch: '+str(i)+' loss: '+str(loss))\n",
    "    all_loss = np.array(all_loss)\n",
    "    return output, all_loss, hidden"
   ]
  },
  {
   "cell_type": "code",
   "execution_count": 108,
   "metadata": {},
   "outputs": [
    {
     "data": {
      "text/plain": [
       "6273"
      ]
     },
     "execution_count": 108,
     "metadata": {},
     "output_type": "execute_result"
    }
   ],
   "source": [
    "len(data)"
   ]
  },
  {
   "cell_type": "code",
   "execution_count": 109,
   "metadata": {},
   "outputs": [
    {
     "name": "stdout",
     "output_type": "stream",
     "text": [
      "torch.Size([6273, 1139]) 1139\n"
     ]
    }
   ],
   "source": [
    "onehot_data = form_onehot(data)\n",
    "print(onehot_data.size(), len(words))"
   ]
  },
  {
   "cell_type": "code",
   "execution_count": 119,
   "metadata": {},
   "outputs": [
    {
     "name": "stdout",
     "output_type": "stream",
     "text": [
      "Input size: 1139. Hidden size: 10. Output size: 1139\n"
     ]
    }
   ],
   "source": [
    "rnn = RNN(len(words), 10, len(words)).cuda()\n",
    "print('Input size: '+str(len(words))+'. Hidden size: '+str(10)+'. Output size: '+str(len(words)))\n",
    "learning_rate = 0.01\n",
    "criterion = nn.CrossEntropyLoss()\n",
    "optimizer = torch.optim.Adam(rnn.parameters(), lr=learning_rate)"
   ]
  },
  {
   "cell_type": "code",
   "execution_count": 120,
   "metadata": {},
   "outputs": [
    {
     "name": "stdout",
     "output_type": "stream",
     "text": [
      "torch.Size([6272, 1139]) torch.Size([6273, 1139])\n",
      "torch.Size([6272])\n"
     ]
    }
   ],
   "source": [
    "#input和output必须都是Variable\n",
    "input_tensor = Variable(onehot_data[:-1, :].type(torch.FloatTensor)).cuda()\n",
    "print(input_tensor.size(), onehot_data.size())\n",
    "target = []\n",
    "for i in range(onehot_data[1:, :].size(0)):\n",
    "    ind = onehot_data[i, :].numpy().tolist().index(1.)\n",
    "    target.append(ind)\n",
    "#     target.append(Variable(torch.from_numpy(np.array([ind])).type(torch.LongTensor)).cuda())\n",
    "target = Variable(torch.from_numpy(np.array(target)).type(torch.LongTensor)).cuda()\n",
    "print(target.size())"
   ]
  },
  {
   "cell_type": "code",
   "execution_count": null,
   "metadata": {},
   "outputs": [],
   "source": [
    "output, loss, hidden = train(rnn, learning_rate, criterion, optimizer, input_tensor, target, 40)"
   ]
  },
  {
   "cell_type": "code",
   "execution_count": 123,
   "metadata": {},
   "outputs": [
    {
     "data": {
      "image/png": "[encoded data removed]",
      "text/plain": [
       "<matplotlib.figure.Figure at 0x2a651600358>"
      ]
     },
     "metadata": {},
     "output_type": "display_data"
    }
   ],
   "source": [
    "l = []\n",
    "for i in loss.squeeze():\n",
    "#     i.data.cpu()\n",
    "    l.append(i.data.cpu().numpy())\n",
    "plt.plot(l)\n",
    "plt.show()"
   ]
  },
  {
   "cell_type": "code",
   "execution_count": 124,
   "metadata": {
    "collapsed": true
   },
   "outputs": [],
   "source": [
    "output_prob = output.data.cpu().numpy()"
   ]
  },
  {
   "cell_type": "code",
   "execution_count": 99,
   "metadata": {
    "collapsed": true
   },
   "outputs": [],
   "source": [
    "# np.savetxt('./rnnOutput.txt', output_prob)\n",
    "np.savetxt('./hidden_new.txt', hidden.data.cpu().numpy())"
   ]
  },
  {
   "cell_type": "code",
   "execution_count": 126,
   "metadata": {
    "collapsed": true
   },
   "outputs": [],
   "source": [
    "p = output.cpu().data.numpy().squeeze()\n",
    "p -= np.min(p)\n",
    "p /= np.max(p)\n",
    "# p -= np.mean(p)"
   ]
  },
  {
   "cell_type": "code",
   "execution_count": 140,
   "metadata": {
    "collapsed": true
   },
   "outputs": [],
   "source": [
    "output_ci = ''\n",
    "inputs = input_tensor[0, :]\n",
    "for i in range(40):\n",
    "    output, hidden = rnn(inputs.unsqueeze(0), hidden)\n",
    "    p = output.cpu().data.numpy().squeeze()\n",
    "    p -= np.min(p)\n",
    "    p /= np.sum(p)\n",
    "    choice = np.random.choice(range(len(words)), p=p)\n",
    "    output_ci += ind2word[choice]\n",
    "    inputs = input_tensor[word2ind[words[i]], :]"
   ]
  },
  {
   "cell_type": "code",
   "execution_count": 141,
   "metadata": {},
   "outputs": [
    {
     "name": "stdout",
     "output_type": "stream",
     "text": [
      "俯甚奈嫩额琼亚杏萼岩绫唤晴限家著谪英阁除故开语美销冷足报何两触吹依将歌起层你谢）\n"
     ]
    }
   ],
   "source": [
    "print(output_ci)"
   ]
  },
  {
   "cell_type": "code",
   "execution_count": 118,
   "metadata": {
    "collapsed": true
   },
   "outputs": [],
   "source": [
    "with open('./tttttttttttt.txt', 'w', encoding='utf-8') as f:\n",
    "    f.write(output_ci)"
   ]
  },
  {
   "cell_type": "code",
   "execution_count": 115,
   "metadata": {
    "collapsed": true
   },
   "outputs": [],
   "source": [
    "out = output_ci[:6]+'。'+output_ci[6:12]+'，'+output_ci[12:17]+'。'+output_ci[17:23]+'。'+output_ci[23:25]+'，'+output_ci[25:27]+'。'+output_ci[27:33]"
   ]
  },
  {
   "cell_type": "code",
   "execution_count": 143,
   "metadata": {
    "collapsed": true
   },
   "outputs": [],
   "source": [
    "import tkinter as tk\n",
    "import tkinter.messagebox\n",
    "\n",
    "def getPoetry():\n",
    "    txt = title_in.get()\n",
    "    output = output_ci\n",
    "#     print(output, type(output))\n",
    "    t.delete('1.0', '2.0')\n",
    "    t.insert('1.0', output_ci)\n",
    "\n",
    "\n",
    "# 庆春， 腊梅香， 清朝， 菩萨， 浣溪沙\n",
    "win = tk.Tk()\n",
    "var = tk.StringVar()\n",
    "var.set(\"如梦令\")\n",
    "title_in = tk.Entry(win, textvariable  = var)\n",
    "title_in.pack()\n",
    "t = tk.Text(win, )\n",
    "\n",
    "t.pack()\n",
    "\n",
    "button_get = tk.Button(win, text=\"生成宋词\", command=getPoetry)\n",
    "button_get.pack()\n",
    "win.mainloop()"
   ]
  },
  {
   "cell_type": "code",
   "execution_count": null,
   "metadata": {
    "collapsed": true
   },
   "outputs": [],
   "source": []
  }
 ],
 "metadata": {
  "kernelspec": {
   "display_name": "Python 3",
   "language": "python",
   "name": "python3"
  },
  "language_info": {
   "codemirror_mode": {
    "name": "ipython",
    "version": 3
   },
   "file_extension": ".py",
   "mimetype": "text/x-python",
   "name": "python",
   "nbconvert_exporter": "python",
   "pygments_lexer": "ipython3",
   "version": "3.6.5"
  }
 },
 "nbformat": 4,
 "nbformat_minor": 2
}
